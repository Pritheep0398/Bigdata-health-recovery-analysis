{
 "cells": [
  {
   "cell_type": "code",
   "execution_count": null,
   "metadata": {
    "colab": {
     "base_uri": "https://localhost:8080/"
    },
    "executionInfo": {
     "elapsed": 62738,
     "status": "ok",
     "timestamp": 1728601921969,
     "user": {
      "displayName": "Farin Farhadianyazdi",
      "userId": "03353092183382888609"
     },
     "user_tz": -120
    },
    "id": "Gog-dFBNHx_S",
    "outputId": "a1388512-c2b4-48d5-c899-20062178c485"
   },
   "outputs": [],
   "source": [
    "# RUN the following 2 installation lines only one time\n",
    "!pip install pyspark\n",
    "!pip install findspark"
   ]
  },
  {
   "cell_type": "code",
   "execution_count": 2,
   "metadata": {
    "executionInfo": {
     "elapsed": 9687,
     "status": "ok",
     "timestamp": 1728601954245,
     "user": {
      "displayName": "Farin Farhadianyazdi",
      "userId": "03353092183382888609"
     },
     "user_tz": -120
    },
    "id": "7kEUyVmAILgF"
   },
   "outputs": [],
   "source": [
    "import findspark\n",
    "findspark.init()\n",
    "from pyspark.sql import SparkSession\n",
    "spark = SparkSession.builder.master('local[*]').appName('Basics').getOrCreate()\n",
    "spark.conf.set(\"spark.sql.repl.eagerEval.enabled\", True) # Property used to format output tables better"
   ]
  },
  {
   "cell_type": "code",
   "execution_count": 3,
   "metadata": {
    "executionInfo": {
     "elapsed": 300,
     "status": "ok",
     "timestamp": 1728601957319,
     "user": {
      "displayName": "Farin Farhadianyazdi",
      "userId": "03353092183382888609"
     },
     "user_tz": -120
    },
    "id": "IR8N1uTWIRSZ"
   },
   "outputs": [],
   "source": [
    "#Creating spark context-Its like connecting to spark cluster\n",
    "from pyspark import SparkConf\n",
    "from pyspark.context import SparkContext\n",
    "\n",
    "sc = SparkContext.getOrCreate(SparkConf().setMaster(\"local[*]\"))"
   ]
  },
  {
   "cell_type": "code",
   "execution_count": 5,
   "metadata": {
    "colab": {
     "base_uri": "https://localhost:8080/"
    },
    "executionInfo": {
     "elapsed": 3363,
     "status": "ok",
     "timestamp": 1728601984662,
     "user": {
      "displayName": "Farin Farhadianyazdi",
      "userId": "03353092183382888609"
     },
     "user_tz": -120
    },
    "id": "YFLEngU2JBXc",
    "outputId": "45716d1f-5ba9-42d1-88be-9d93ae7651ed"
   },
   "outputs": [
    {
     "data": {
      "text/plain": [
       "['Patient ID,Patient Name,Patient Last Name,Gender,Age group,Location,BMI,Diabetes,Blood pressure Systolic,Blood pressure Diastolic,Hear Rate,Smoking Status,Alcohol Use,Exercise level,Type of surgery,Surgery duration,Anaesthesia Type,Recovery Time,Length of hospital stay,Pain levels,Physical Therapy Sessions,Infection occurrence',\n",
       " '1,Percy,Olivier,Male,4,Lesotho,14.4346038063218,1,16,16.5702644365701,52,1,1,33.2785492368408,1,7.90176550666884,1,15,25,6,3,0',\n",
       " '2,Boris,Addis,Male,3,Uzbekistan,54.2754787841232,0,5,5.6898040360258,68,0,0,6.90878864233791,0,5.06706765902558,0,3,30,4,5,1',\n",
       " '3,Tony,Poulton,Male,1,Saudi Arabia,28.9115789341329,0,8,12.7164000383189,189,0,1,32.5247485854313,1,7.58874520081503,1,17,21,6,4,1',\n",
       " '4,Molly,Wild,Female,3,Tonga,24.8498306208522,0,14,4.92664265023854,167,0,0,11.7092604347082,1,6.19238860401902,0,13,9,3,4,0']"
      ]
     },
     "execution_count": 5,
     "metadata": {},
     "output_type": "execute_result"
    }
   ],
   "source": [
    "data_rdd = sc.textFile('/content/drive/MyDrive/Pyspark/Project/ExportCSV.csv')\n",
    "data_rdd.take(5)"
   ]
  },
  {
   "cell_type": "code",
   "execution_count": 8,
   "metadata": {
    "colab": {
     "base_uri": "https://localhost:8080/"
    },
    "executionInfo": {
     "elapsed": 1269,
     "status": "ok",
     "timestamp": 1728602008108,
     "user": {
      "displayName": "Farin Farhadianyazdi",
      "userId": "03353092183382888609"
     },
     "user_tz": -120
    },
    "id": "6A0S7nseJo-k",
    "outputId": "f5599e7b-dba6-4ca2-ba7b-9156ce294bb9"
   },
   "outputs": [
    {
     "data": {
      "text/plain": [
       "['1,Percy,Olivier,Male,4,Lesotho,14.4346038063218,1,16,16.5702644365701,52,1,1,33.2785492368408,1,7.90176550666884,1,15,25,6,3,0',\n",
       " '2,Boris,Addis,Male,3,Uzbekistan,54.2754787841232,0,5,5.6898040360258,68,0,0,6.90878864233791,0,5.06706765902558,0,3,30,4,5,1',\n",
       " '3,Tony,Poulton,Male,1,Saudi Arabia,28.9115789341329,0,8,12.7164000383189,189,0,1,32.5247485854313,1,7.58874520081503,1,17,21,6,4,1',\n",
       " '4,Molly,Wild,Female,3,Tonga,24.8498306208522,0,14,4.92664265023854,167,0,0,11.7092604347082,1,6.19238860401902,0,13,9,3,4,0',\n",
       " '5,Cherish,Silva,Female,2,Belgium,50.5227091398662,0,18,3.65124117659928,123,0,0,5.58206343538224,0,7.59810593519272,1,20,6,5,6,1']"
      ]
     },
     "execution_count": 8,
     "metadata": {},
     "output_type": "execute_result"
    }
   ],
   "source": [
    "# Filter Out the Header and Parse Rows:\n",
    "header = data_rdd.first()  # Extract the header row\n",
    "data_rdd = data_rdd.filter(lambda row: row != header)  # Filter out the header\n",
    "data_rdd.take(5)"
   ]
  },
  {
   "cell_type": "code",
   "execution_count": 9,
   "metadata": {
    "colab": {
     "base_uri": "https://localhost:8080/"
    },
    "executionInfo": {
     "elapsed": 4305,
     "status": "ok",
     "timestamp": 1728602194887,
     "user": {
      "displayName": "Farin Farhadianyazdi",
      "userId": "03353092183382888609"
     },
     "user_tz": -120
    },
    "id": "OPNRiZMUVY5v",
    "outputId": "e78f1203-0f48-4422-8ef9-fa1af84c9fb2"
   },
   "outputs": [
    {
     "name": "stdout",
     "output_type": "stream",
     "text": [
      "Combination with Maximum Recovery Time:\n",
      "Type of Surgery: 0, Surgery Duration: 5, Anesthesia Type: 0, Max Recovery Time: 30 days\n"
     ]
    }
   ],
   "source": [
    "# Function to parse the CSV line\n",
    "def parse_line(line):\n",
    "    fields = line.split(',')\n",
    "    try:\n",
    "        # Extracting values (Type of Surgery, Surgery Duration, Anesthesia Type, Recovery Time)\n",
    "        #Note that to reach better combination I round the \"Surgery Duration\"\n",
    "        return (int(fields[14]), round(float(fields[15])), int(fields[16]), int(fields[17]))\n",
    "    except (IndexError, ValueError) as e:\n",
    "        print(f\"Error parsing line: {line} - {e}\")\n",
    "        return None\n",
    "\n",
    "# Map and filter out None values\n",
    "mapped_rdd = data_rdd.map(parse_line).filter(lambda x: x is not None)\n",
    "\n",
    "\n",
    "# Extract relevant info for max recovery time\n",
    "info_rdd = mapped_rdd.map(lambda record: ((record[0], record[1], record[2]), record[3]))\n",
    "\n",
    "max_recovery_rdd = info_rdd.reduceByKey(lambda a, b: max(a, b))\n",
    "\n",
    "# Collect results\n",
    "results = max_recovery_rdd.collect()\n",
    "\n",
    "# Find the combination with the maximum recovery time\n",
    "max_combination = max(results, key=lambda x: x[1])\n",
    "\n",
    "# Show the result\n",
    "print(f\"Combination with Maximum Recovery Time:\")\n",
    "print(f\"Type of Surgery: {max_combination[0][0]}, Surgery Duration: {max_combination[0][1]}, Anesthesia Type: {max_combination[0][2]}, Max Recovery Time: {max_combination[1]} days\")\n",
    "\n",
    "\n"
   ]
  }
 ],
 "metadata": {
  "colab": {
   "authorship_tag": "ABX9TyMjjalQo4FazVDaf2z7iD9Y",
   "mount_file_id": "102xF1rvuDp86sBZ6-RR5sdrgqmbRJPKI",
   "provenance": []
  },
  "kernelspec": {
   "display_name": "Python 3",
   "name": "python3"
  },
  "language_info": {
   "name": "python"
  }
 },
 "nbformat": 4,
 "nbformat_minor": 0
}
